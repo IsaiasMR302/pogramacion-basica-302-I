{
  "nbformat": 4,
  "nbformat_minor": 0,
  "metadata": {
    "colab": {
      "provenance": [],
      "authorship_tag": "ABX9TyNFyW5dmCNUBqTKLu1Y7NbM",
      "include_colab_link": true
    },
    "kernelspec": {
      "name": "python3",
      "display_name": "Python 3"
    },
    "language_info": {
      "name": "python"
    }
  },
  "cells": [
    {
      "cell_type": "markdown",
      "metadata": {
        "id": "view-in-github",
        "colab_type": "text"
      },
      "source": [
        "<a href=\"https://colab.research.google.com/github/IsaiasMR302/pogramacion-basica-302-I/blob/main/aclab-302/aclab1/AcLab1ipynb.ipynb\" target=\"_parent\"><img src=\"https://colab.research.google.com/assets/colab-badge.svg\" alt=\"Open In Colab\"/></a>"
      ]
    },
    {
      "cell_type": "markdown",
      "source": [
        "Actividad de Laboratorio 1 impresion de mensajes"
      ],
      "metadata": {
        "id": "hyzeQwpHxpE_"
      }
    },
    {
      "cell_type": "markdown",
      "source": [
        "pb302_1.cpp programa para bienvenida"
      ],
      "metadata": {
        "id": "-ZtRVxhQmTB5"
      }
    },
    {
      "cell_type": "code",
      "execution_count": null,
      "metadata": {
        "colab": {
          "base_uri": "https://localhost:8080/"
        },
        "id": "fNi5Rsi9lrMI",
        "outputId": "38311374-f6b1-4c45-bcee-b701491838bf"
      },
      "outputs": [
        {
          "output_type": "stream",
          "name": "stdout",
          "text": [
            "Overwriting PB302_1.cpp\n"
          ]
        }
      ],
      "source": [
        "%%writefile PB302_1.cpp\n",
        "//programa para imprimir mensaje de bienvenida\n",
        "//creado por Isaias Martinez Ruiz\n",
        "//fecha: 15/sep/2025\n",
        "//PB302_1.cpp\n",
        "#include <iostream>\n",
        "using namespace std;\n",
        "int main()\n",
        "{\n",
        "  cout<<\"bienvenidos isaias a progrmacion basica en C++\\n\";\n",
        "  cout<<\"gracias por programar en clase\";\n",
        "  return 0;\n",
        "}"
      ]
    },
    {
      "cell_type": "code",
      "source": [
        "!g++ PB302_1.cpp -o PB302_1\n",
        "!./PB302_1"
      ],
      "metadata": {
        "colab": {
          "base_uri": "https://localhost:8080/"
        },
        "id": "uxHWz5GAp5sI",
        "outputId": "b1b67ce8-f10c-4114-fa40-6cb8c942ed36"
      },
      "execution_count": null,
      "outputs": [
        {
          "output_type": "stream",
          "name": "stdout",
          "text": [
            "bienvenidos isaias a progrmacion basica en C++\n",
            "gracias por programar en clase"
          ]
        }
      ]
    },
    {
      "cell_type": "markdown",
      "source": [
        "PB302_2.cpp programa prara imprimir datos personales"
      ],
      "metadata": {
        "id": "vrPhhov3qzfS"
      }
    },
    {
      "cell_type": "code",
      "source": [
        "%%writefile PB302_2.cpp\n",
        "//programa para mostrar datos personales\n",
        "//creado por Isaias Martinez Ruiz\n",
        "//fecha18/sep/2025\n",
        "//PB302_2.cpp\n",
        "#include <iostream>\n",
        "using namespace std;\n",
        "int main()\n",
        "{\n",
        "  char nombre[10]=\"isaias\";\n",
        "  char paterno[10]=\"martinez\";\n",
        "  char materno[10]=\"Ruiz\";\n",
        "  int edad=16;\n",
        "  char direccion[20]=\"Articulos #1812\";\n",
        "  char fechanac[11]=\"30/09/2009\";\n",
        "  char ciudadnac[25]=\"CD. Juarez chihuahua\";\n",
        "cout<<\"tu nombre completo es:\\n\";\n",
        "cout<<nombre<<\"\\n\";\n",
        "cout<<paterno<<\"\\n\";\n",
        "cout<<materno<<\"\\n\";\n",
        "cout<<edad<<\"\\n\";\n",
        "cout<<direccion<<\"\\n\";\n",
        "cout<<fechanac<<\"\\n\";\n",
        "cout<<ciudadnac<<\"\\n\";\n",
        "return 0;\n",
        "}"
      ],
      "metadata": {
        "colab": {
          "base_uri": "https://localhost:8080/"
        },
        "id": "kKxwQ28drIE6",
        "outputId": "c43ed224-18ac-4642-c4bb-aa2bb33a5dfd"
      },
      "execution_count": 15,
      "outputs": [
        {
          "output_type": "stream",
          "name": "stdout",
          "text": [
            "Overwriting PB302_2.cpp\n"
          ]
        }
      ]
    },
    {
      "cell_type": "code",
      "source": [
        "!g++ PB302_2.cpp -o PB302_2.exe\n",
        "!./PB302_2.exe"
      ],
      "metadata": {
        "colab": {
          "base_uri": "https://localhost:8080/"
        },
        "id": "DndS9V87wjTm",
        "outputId": "2a8c5a6f-088c-459d-8c12-038a99b0bce6"
      },
      "execution_count": 16,
      "outputs": [
        {
          "output_type": "stream",
          "name": "stdout",
          "text": [
            "tu nombre completo es:\n",
            "isaias\n",
            "martinez\n",
            "Ruiz\n",
            "16\n",
            "Articulos #1812\n",
            "30/09/2009\n",
            "CD. Juarez chihuahua\n"
          ]
        }
      ]
    }
  ]
}
