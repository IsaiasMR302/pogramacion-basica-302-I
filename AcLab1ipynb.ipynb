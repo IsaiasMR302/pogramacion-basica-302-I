{
  "nbformat": 4,
  "nbformat_minor": 0,
  "metadata": {
    "colab": {
      "provenance": [],
      "authorship_tag": "ABX9TyOkKafW5bTtX2gsqwpyqalA",
      "include_colab_link": true
    },
    "kernelspec": {
      "name": "python3",
      "display_name": "Python 3"
    },
    "language_info": {
      "name": "python"
    }
  },
  "cells": [
    {
      "cell_type": "markdown",
      "metadata": {
        "id": "view-in-github",
        "colab_type": "text"
      },
      "source": [
        "<a href=\"https://colab.research.google.com/github/IsaiasMR302/pogramacion-basica-302-I/blob/main/AcLab1ipynb.ipynb\" target=\"_parent\"><img src=\"https://colab.research.google.com/assets/colab-badge.svg\" alt=\"Open In Colab\"/></a>"
      ]
    },
    {
      "cell_type": "markdown",
      "source": [
        "Actividad de Laboratorio 1 impresion de mensajes"
      ],
      "metadata": {
        "id": "hyzeQwpHxpE_"
      }
    },
    {
      "cell_type": "markdown",
      "source": [
        "pb302_1.cpp programa para bienvenida"
      ],
      "metadata": {
        "id": "-ZtRVxhQmTB5"
      }
    },
    {
      "cell_type": "code",
      "execution_count": 12,
      "metadata": {
        "colab": {
          "base_uri": "https://localhost:8080/"
        },
        "id": "fNi5Rsi9lrMI",
        "outputId": "38311374-f6b1-4c45-bcee-b701491838bf"
      },
      "outputs": [
        {
          "output_type": "stream",
          "name": "stdout",
          "text": [
            "Overwriting PB302_1.cpp\n"
          ]
        }
      ],
      "source": [
        "%%writefile PB302_1.cpp\n",
        "//programa para imprimir mensaje de bienvenida\n",
        "//creado por Isaias Martinez Ruiz\n",
        "//fecha: 15/sep/2025\n",
        "//PB302_1.cpp\n",
        "#include <iostream>\n",
        "using namespace std;\n",
        "int main()\n",
        "{\n",
        "  cout<<\"bienvenidos isaias a progrmacion basica en C++\\n\";\n",
        "  cout<<\"gracias por programar en clase\";\n",
        "  return 0;\n",
        "}"
      ]
    },
    {
      "cell_type": "code",
      "source": [
        "!g++ PB302_1.cpp -o PB302_1\n",
        "!./PB302_1"
      ],
      "metadata": {
        "colab": {
          "base_uri": "https://localhost:8080/"
        },
        "id": "uxHWz5GAp5sI",
        "outputId": "b1b67ce8-f10c-4114-fa40-6cb8c942ed36"
      },
      "execution_count": 13,
      "outputs": [
        {
          "output_type": "stream",
          "name": "stdout",
          "text": [
            "bienvenidos isaias a progrmacion basica en C++\n",
            "gracias por programar en clase"
          ]
        }
      ]
    }
  ]
}